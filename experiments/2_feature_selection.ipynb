{
 "cells": [
  {
   "cell_type": "markdown",
   "metadata": {},
   "source": [
    "## Data Preprocessing and Feature Engineering"
   ]
  },
  {
   "cell_type": "code",
   "execution_count": null,
   "metadata": {},
   "outputs": [],
   "source": [
    "# Importing needed libraries\n",
    "\n",
    "import pandas as pd\n",
    "import matplotlib.pyplot as plt\n",
    "import seaborn as sns\n",
    "\n",
    "import numpy as np\n",
    "from scipy.cluster.hierarchy import linkage, fcluster\n",
    "from scipy.spatial.distance import squareform\n",
    "\n",
    "from sklearn.ensemble import IsolationForest\n",
    "from itertools import zip_longest\n",
    "\n",
    "from sklearn.decomposition import PCA\n",
    "from sklearn.preprocessing import StandardScaler\n",
    "\n",
    "from imblearn.over_sampling import SMOTE\n",
    "from sklearn.model_selection import train_test_split\n",
    "\n",
    "from imblearn.over_sampling import ADASYN\n",
    "from sklearn.ensemble import RandomForestClassifier\n",
    "\n",
    "from scipy.stats import ttest_ind"
   ]
  },
  {
   "cell_type": "code",
   "execution_count": 2,
   "metadata": {},
   "outputs": [],
   "source": [
    "# Reading the raw data \n",
    "file_path = \"../data/raw/data.csv\"\n",
    "df = pd.read_csv(file_path)"
   ]
  },
  {
   "cell_type": "markdown",
   "metadata": {},
   "source": [
    "### Displaying The First Few Rows, Dimensions, and Column Names of The Dataset"
   ]
  },
  {
   "cell_type": "code",
   "execution_count": 3,
   "metadata": {},
   "outputs": [
    {
     "name": "stdout",
     "output_type": "stream",
     "text": [
      "   Bankrupt?   ROA(C) before interest and depreciation before interest   \n",
      "0          1                                           0.370594         \\\n",
      "1          1                                           0.464291          \n",
      "2          1                                           0.426071          \n",
      "3          1                                           0.399844          \n",
      "4          1                                           0.465022          \n",
      "\n",
      "    ROA(A) before interest and % after tax   \n",
      "0                                 0.424389  \\\n",
      "1                                 0.538214   \n",
      "2                                 0.499019   \n",
      "3                                 0.451265   \n",
      "4                                 0.538432   \n",
      "\n",
      "    ROA(B) before interest and depreciation after tax   \n",
      "0                                           0.405750   \\\n",
      "1                                           0.516730    \n",
      "2                                           0.472295    \n",
      "3                                           0.457733    \n",
      "4                                           0.522298    \n",
      "\n",
      "    Operating Gross Margin   Realized Sales Gross Margin   \n",
      "0                 0.601457                      0.601457  \\\n",
      "1                 0.610235                      0.610235   \n",
      "2                 0.601450                      0.601364   \n",
      "3                 0.583541                      0.583541   \n",
      "4                 0.598783                      0.598783   \n",
      "\n",
      "    Operating Profit Rate   Pre-tax net Interest Rate   \n",
      "0                0.998969                    0.796887  \\\n",
      "1                0.998946                    0.797380   \n",
      "2                0.998857                    0.796403   \n",
      "3                0.998700                    0.796967   \n",
      "4                0.998973                    0.797366   \n",
      "\n",
      "    After-tax net Interest Rate   Non-industry income and expenditure/revenue   \n",
      "0                      0.808809                                      0.302646  \\\n",
      "1                      0.809301                                      0.303556   \n",
      "2                      0.808388                                      0.302035   \n",
      "3                      0.808966                                      0.303350   \n",
      "4                      0.809304                                      0.303475   \n",
      "\n",
      "   ...   Net Income to Total Assets   Total assets to GNP price   \n",
      "0  ...                     0.716845                    0.009219  \\\n",
      "1  ...                     0.795297                    0.008323   \n",
      "2  ...                     0.774670                    0.040003   \n",
      "3  ...                     0.739555                    0.003252   \n",
      "4  ...                     0.795016                    0.003878   \n",
      "\n",
      "    No-credit Interval   Gross Profit to Sales   \n",
      "0             0.622879                0.601453  \\\n",
      "1             0.623652                0.610237   \n",
      "2             0.623841                0.601449   \n",
      "3             0.622929                0.583538   \n",
      "4             0.623521                0.598782   \n",
      "\n",
      "    Net Income to Stockholder's Equity   Liability to Equity   \n",
      "0                             0.827890              0.290202  \\\n",
      "1                             0.839969              0.283846   \n",
      "2                             0.836774              0.290189   \n",
      "3                             0.834697              0.281721   \n",
      "4                             0.839973              0.278514   \n",
      "\n",
      "    Degree of Financial Leverage (DFL)   \n",
      "0                             0.026601  \\\n",
      "1                             0.264577   \n",
      "2                             0.026555   \n",
      "3                             0.026697   \n",
      "4                             0.024752   \n",
      "\n",
      "    Interest Coverage Ratio (Interest expense to EBIT)   Net Income Flag   \n",
      "0                                           0.564050                   1  \\\n",
      "1                                           0.570175                   1   \n",
      "2                                           0.563706                   1   \n",
      "3                                           0.564663                   1   \n",
      "4                                           0.575617                   1   \n",
      "\n",
      "    Equity to Liability  \n",
      "0              0.016469  \n",
      "1              0.020794  \n",
      "2              0.016474  \n",
      "3              0.023982  \n",
      "4              0.035490  \n",
      "\n",
      "[5 rows x 96 columns]\n",
      "(6819, 96)\n",
      "['Bankrupt?', ' ROA(C) before interest and depreciation before interest', ' ROA(A) before interest and % after tax', ' ROA(B) before interest and depreciation after tax', ' Operating Gross Margin', ' Realized Sales Gross Margin', ' Operating Profit Rate', ' Pre-tax net Interest Rate', ' After-tax net Interest Rate', ' Non-industry income and expenditure/revenue', ' Continuous interest rate (after tax)', ' Operating Expense Rate', ' Research and development expense rate', ' Cash flow rate', ' Interest-bearing debt interest rate', ' Tax rate (A)', ' Net Value Per Share (B)', ' Net Value Per Share (A)', ' Net Value Per Share (C)', ' Persistent EPS in the Last Four Seasons', ' Cash Flow Per Share', ' Revenue Per Share (Yuan ¥)', ' Operating Profit Per Share (Yuan ¥)', ' Per Share Net profit before tax (Yuan ¥)', ' Realized Sales Gross Profit Growth Rate', ' Operating Profit Growth Rate', ' After-tax Net Profit Growth Rate', ' Regular Net Profit Growth Rate', ' Continuous Net Profit Growth Rate', ' Total Asset Growth Rate', ' Net Value Growth Rate', ' Total Asset Return Growth Rate Ratio', ' Cash Reinvestment %', ' Current Ratio', ' Quick Ratio', ' Interest Expense Ratio', ' Total debt/Total net worth', ' Debt ratio %', ' Net worth/Assets', ' Long-term fund suitability ratio (A)', ' Borrowing dependency', ' Contingent liabilities/Net worth', ' Operating profit/Paid-in capital', ' Net profit before tax/Paid-in capital', ' Inventory and accounts receivable/Net value', ' Total Asset Turnover', ' Accounts Receivable Turnover', ' Average Collection Days', ' Inventory Turnover Rate (times)', ' Fixed Assets Turnover Frequency', ' Net Worth Turnover Rate (times)', ' Revenue per person', ' Operating profit per person', ' Allocation rate per person', ' Working Capital to Total Assets', ' Quick Assets/Total Assets', ' Current Assets/Total Assets', ' Cash/Total Assets', ' Quick Assets/Current Liability', ' Cash/Current Liability', ' Current Liability to Assets', ' Operating Funds to Liability', ' Inventory/Working Capital', ' Inventory/Current Liability', ' Current Liabilities/Liability', ' Working Capital/Equity', ' Current Liabilities/Equity', ' Long-term Liability to Current Assets', ' Retained Earnings to Total Assets', ' Total income/Total expense', ' Total expense/Assets', ' Current Asset Turnover Rate', ' Quick Asset Turnover Rate', ' Working capitcal Turnover Rate', ' Cash Turnover Rate', ' Cash Flow to Sales', ' Fixed Assets to Assets', ' Current Liability to Liability', ' Current Liability to Equity', ' Equity to Long-term Liability', ' Cash Flow to Total Assets', ' Cash Flow to Liability', ' CFO to Assets', ' Cash Flow to Equity', ' Current Liability to Current Assets', ' Liability-Assets Flag', ' Net Income to Total Assets', ' Total assets to GNP price', ' No-credit Interval', ' Gross Profit to Sales', \" Net Income to Stockholder's Equity\", ' Liability to Equity', ' Degree of Financial Leverage (DFL)', ' Interest Coverage Ratio (Interest expense to EBIT)', ' Net Income Flag', ' Equity to Liability']\n"
     ]
    }
   ],
   "source": [
    "# Looking at the raw data\n",
    "print(df.head())\n",
    "\n",
    "# Shape of data\n",
    "print(df.shape)\n",
    "\n",
    "#\n",
    "print(df.columns.tolist())"
   ]
  },
  {
   "cell_type": "markdown",
   "metadata": {},
   "source": [
    "### Missing Values"
   ]
  },
  {
   "cell_type": "code",
   "execution_count": 4,
   "metadata": {},
   "outputs": [
    {
     "name": "stdout",
     "output_type": "stream",
     "text": [
      "<class 'pandas.core.frame.DataFrame'>\n",
      "RangeIndex: 6819 entries, 0 to 6818\n",
      "Data columns (total 96 columns):\n",
      " #   Column                                                    Non-Null Count  Dtype  \n",
      "---  ------                                                    --------------  -----  \n",
      " 0   Bankrupt?                                                 6819 non-null   int64  \n",
      " 1    ROA(C) before interest and depreciation before interest  6819 non-null   float64\n",
      " 2    ROA(A) before interest and % after tax                   6819 non-null   float64\n",
      " 3    ROA(B) before interest and depreciation after tax        6819 non-null   float64\n",
      " 4    Operating Gross Margin                                   6819 non-null   float64\n",
      " 5    Realized Sales Gross Margin                              6819 non-null   float64\n",
      " 6    Operating Profit Rate                                    6819 non-null   float64\n",
      " 7    Pre-tax net Interest Rate                                6819 non-null   float64\n",
      " 8    After-tax net Interest Rate                              6819 non-null   float64\n",
      " 9    Non-industry income and expenditure/revenue              6819 non-null   float64\n",
      " 10   Continuous interest rate (after tax)                     6819 non-null   float64\n",
      " 11   Operating Expense Rate                                   6819 non-null   float64\n",
      " 12   Research and development expense rate                    6819 non-null   float64\n",
      " 13   Cash flow rate                                           6819 non-null   float64\n",
      " 14   Interest-bearing debt interest rate                      6819 non-null   float64\n",
      " 15   Tax rate (A)                                             6819 non-null   float64\n",
      " 16   Net Value Per Share (B)                                  6819 non-null   float64\n",
      " 17   Net Value Per Share (A)                                  6819 non-null   float64\n",
      " 18   Net Value Per Share (C)                                  6819 non-null   float64\n",
      " 19   Persistent EPS in the Last Four Seasons                  6819 non-null   float64\n",
      " 20   Cash Flow Per Share                                      6819 non-null   float64\n",
      " 21   Revenue Per Share (Yuan ¥)                               6819 non-null   float64\n",
      " 22   Operating Profit Per Share (Yuan ¥)                      6819 non-null   float64\n",
      " 23   Per Share Net profit before tax (Yuan ¥)                 6819 non-null   float64\n",
      " 24   Realized Sales Gross Profit Growth Rate                  6819 non-null   float64\n",
      " 25   Operating Profit Growth Rate                             6819 non-null   float64\n",
      " 26   After-tax Net Profit Growth Rate                         6819 non-null   float64\n",
      " 27   Regular Net Profit Growth Rate                           6819 non-null   float64\n",
      " 28   Continuous Net Profit Growth Rate                        6819 non-null   float64\n",
      " 29   Total Asset Growth Rate                                  6819 non-null   float64\n",
      " 30   Net Value Growth Rate                                    6819 non-null   float64\n",
      " 31   Total Asset Return Growth Rate Ratio                     6819 non-null   float64\n",
      " 32   Cash Reinvestment %                                      6819 non-null   float64\n",
      " 33   Current Ratio                                            6819 non-null   float64\n",
      " 34   Quick Ratio                                              6819 non-null   float64\n",
      " 35   Interest Expense Ratio                                   6819 non-null   float64\n",
      " 36   Total debt/Total net worth                               6819 non-null   float64\n",
      " 37   Debt ratio %                                             6819 non-null   float64\n",
      " 38   Net worth/Assets                                         6819 non-null   float64\n",
      " 39   Long-term fund suitability ratio (A)                     6819 non-null   float64\n",
      " 40   Borrowing dependency                                     6819 non-null   float64\n",
      " 41   Contingent liabilities/Net worth                         6819 non-null   float64\n",
      " 42   Operating profit/Paid-in capital                         6819 non-null   float64\n",
      " 43   Net profit before tax/Paid-in capital                    6819 non-null   float64\n",
      " 44   Inventory and accounts receivable/Net value              6819 non-null   float64\n",
      " 45   Total Asset Turnover                                     6819 non-null   float64\n",
      " 46   Accounts Receivable Turnover                             6819 non-null   float64\n",
      " 47   Average Collection Days                                  6819 non-null   float64\n",
      " 48   Inventory Turnover Rate (times)                          6819 non-null   float64\n",
      " 49   Fixed Assets Turnover Frequency                          6819 non-null   float64\n",
      " 50   Net Worth Turnover Rate (times)                          6819 non-null   float64\n",
      " 51   Revenue per person                                       6819 non-null   float64\n",
      " 52   Operating profit per person                              6819 non-null   float64\n",
      " 53   Allocation rate per person                               6819 non-null   float64\n",
      " 54   Working Capital to Total Assets                          6819 non-null   float64\n",
      " 55   Quick Assets/Total Assets                                6819 non-null   float64\n",
      " 56   Current Assets/Total Assets                              6819 non-null   float64\n",
      " 57   Cash/Total Assets                                        6819 non-null   float64\n",
      " 58   Quick Assets/Current Liability                           6819 non-null   float64\n",
      " 59   Cash/Current Liability                                   6819 non-null   float64\n",
      " 60   Current Liability to Assets                              6819 non-null   float64\n",
      " 61   Operating Funds to Liability                             6819 non-null   float64\n",
      " 62   Inventory/Working Capital                                6819 non-null   float64\n",
      " 63   Inventory/Current Liability                              6819 non-null   float64\n",
      " 64   Current Liabilities/Liability                            6819 non-null   float64\n",
      " 65   Working Capital/Equity                                   6819 non-null   float64\n",
      " 66   Current Liabilities/Equity                               6819 non-null   float64\n",
      " 67   Long-term Liability to Current Assets                    6819 non-null   float64\n",
      " 68   Retained Earnings to Total Assets                        6819 non-null   float64\n",
      " 69   Total income/Total expense                               6819 non-null   float64\n",
      " 70   Total expense/Assets                                     6819 non-null   float64\n",
      " 71   Current Asset Turnover Rate                              6819 non-null   float64\n",
      " 72   Quick Asset Turnover Rate                                6819 non-null   float64\n",
      " 73   Working capitcal Turnover Rate                           6819 non-null   float64\n",
      " 74   Cash Turnover Rate                                       6819 non-null   float64\n",
      " 75   Cash Flow to Sales                                       6819 non-null   float64\n",
      " 76   Fixed Assets to Assets                                   6819 non-null   float64\n",
      " 77   Current Liability to Liability                           6819 non-null   float64\n",
      " 78   Current Liability to Equity                              6819 non-null   float64\n",
      " 79   Equity to Long-term Liability                            6819 non-null   float64\n",
      " 80   Cash Flow to Total Assets                                6819 non-null   float64\n",
      " 81   Cash Flow to Liability                                   6819 non-null   float64\n",
      " 82   CFO to Assets                                            6819 non-null   float64\n",
      " 83   Cash Flow to Equity                                      6819 non-null   float64\n",
      " 84   Current Liability to Current Assets                      6819 non-null   float64\n",
      " 85   Liability-Assets Flag                                    6819 non-null   int64  \n",
      " 86   Net Income to Total Assets                               6819 non-null   float64\n",
      " 87   Total assets to GNP price                                6819 non-null   float64\n",
      " 88   No-credit Interval                                       6819 non-null   float64\n",
      " 89   Gross Profit to Sales                                    6819 non-null   float64\n",
      " 90   Net Income to Stockholder's Equity                       6819 non-null   float64\n",
      " 91   Liability to Equity                                      6819 non-null   float64\n",
      " 92   Degree of Financial Leverage (DFL)                       6819 non-null   float64\n",
      " 93   Interest Coverage Ratio (Interest expense to EBIT)       6819 non-null   float64\n",
      " 94   Net Income Flag                                          6819 non-null   int64  \n",
      " 95   Equity to Liability                                      6819 non-null   float64\n",
      "dtypes: float64(93), int64(3)\n",
      "memory usage: 5.0 MB\n",
      "None\n"
     ]
    }
   ],
   "source": [
    "# Providing detailed metadata about the dataset\n",
    "print(df.info())"
   ]
  },
  {
   "cell_type": "markdown",
   "metadata": {},
   "source": [
    "All the feature are non-null. There is no missing values.\n",
    "93 variables are continuous. Bandrupt, our response, is categorical with two classes. We have two other categorical variables. "
   ]
  },
  {
   "cell_type": "code",
   "execution_count": 5,
   "metadata": {},
   "outputs": [],
   "source": [
    "# Defining Predictors and target\n",
    "\n",
    "predictors =df.drop(columns=['Bankrupt?'])\n",
    "target = df['Bankrupt?']"
   ]
  },
  {
   "cell_type": "code",
   "execution_count": 6,
   "metadata": {},
   "outputs": [],
   "source": [
    "# Simplifying columns name to Xi\n",
    "\n",
    "predictors.columns = [f\"X{i+1}\" for i in range(predictors.shape[1])]"
   ]
  },
  {
   "cell_type": "code",
   "execution_count": 18,
   "metadata": {},
   "outputs": [
    {
     "name": "stdout",
     "output_type": "stream",
     "text": [
      " ROA(C) before interest and depreciation before interestX1        \n",
      " ROA(A) before interest and % after taxX2        \n",
      " ROA(B) before interest and depreciation after taxX3        \n",
      " Operating Gross MarginX4        \n",
      " Realized Sales Gross MarginX5        \n",
      " Operating Profit RateX6        \n",
      " Pre-tax net Interest RateX7        \n",
      " After-tax net Interest RateX8        \n",
      " Non-industry income and expenditure/revenueX9        \n",
      " Continuous interest rate (after tax)X10       \n",
      " Operating Expense RateX11       \n",
      " Research and development expense rateX12       \n",
      " Cash flow rateX13       \n",
      " Interest-bearing debt interest rateX14       \n",
      " Tax rate (A)X15       \n",
      " Net Value Per Share (B)X16       \n",
      " Net Value Per Share (A)X17       \n",
      " Net Value Per Share (C)X18       \n",
      " Persistent EPS in the Last Four SeasonsX19       \n",
      " Cash Flow Per ShareX20       \n",
      " Revenue Per Share (Yuan ¥)X21       \n",
      " Operating Profit Per Share (Yuan ¥)X22       \n",
      " Per Share Net profit before tax (Yuan ¥)X23       \n",
      " Realized Sales Gross Profit Growth RateX24       \n",
      " Operating Profit Growth RateX25       \n",
      " After-tax Net Profit Growth RateX26       \n",
      " Regular Net Profit Growth RateX27       \n",
      " Continuous Net Profit Growth RateX28       \n",
      " Total Asset Growth RateX29       \n",
      " Net Value Growth RateX30       \n",
      " Total Asset Return Growth Rate RatioX31       \n",
      " Cash Reinvestment %X32       \n",
      " Current RatioX33       \n",
      " Quick RatioX34       \n",
      " Interest Expense RatioX35       \n",
      " Total debt/Total net worthX36       \n",
      " Debt ratio %X37       \n",
      " Net worth/AssetsX38       \n",
      " Long-term fund suitability ratio (A)X39       \n",
      " Borrowing dependencyX40       \n",
      " Contingent liabilities/Net worthX41       \n",
      " Operating profit/Paid-in capitalX42       \n",
      " Net profit before tax/Paid-in capitalX43       \n",
      " Inventory and accounts receivable/Net valueX44       \n",
      " Total Asset TurnoverX45       \n",
      " Accounts Receivable TurnoverX46       \n",
      " Average Collection DaysX47       \n",
      " Inventory Turnover Rate (times)X48       \n",
      " Fixed Assets Turnover FrequencyX49       \n",
      " Net Worth Turnover Rate (times)X50       \n",
      " Revenue per personX51       \n",
      " Operating profit per personX52       \n",
      " Allocation rate per personX53       \n",
      " Working Capital to Total AssetsX54       \n",
      " Quick Assets/Total AssetsX55       \n",
      " Current Assets/Total AssetsX56       \n",
      " Cash/Total AssetsX57       \n",
      " Quick Assets/Current LiabilityX58       \n",
      " Cash/Current LiabilityX59       \n",
      " Current Liability to AssetsX60       \n",
      " Operating Funds to LiabilityX61       \n",
      " Inventory/Working CapitalX62       \n",
      " Inventory/Current LiabilityX63       \n",
      " Current Liabilities/LiabilityX64       \n",
      " Working Capital/EquityX65       \n",
      " Current Liabilities/EquityX66       \n",
      " Long-term Liability to Current AssetsX67       \n",
      " Retained Earnings to Total AssetsX68       \n",
      " Total income/Total expenseX69       \n",
      " Total expense/AssetsX70       \n",
      " Current Asset Turnover RateX71       \n",
      " Quick Asset Turnover RateX72       \n",
      " Working capitcal Turnover RateX73       \n",
      " Cash Turnover RateX74       \n",
      " Cash Flow to SalesX75       \n",
      " Fixed Assets to AssetsX76       \n",
      " Current Liability to LiabilityX77       \n",
      " Current Liability to EquityX78       \n",
      " Equity to Long-term LiabilityX79       \n",
      " Cash Flow to Total AssetsX80       \n",
      " Cash Flow to LiabilityX81       \n",
      " CFO to AssetsX82       \n",
      " Cash Flow to EquityX83       \n",
      " Current Liability to Current AssetsX84       \n",
      " Liability-Assets FlagX85       \n",
      " Net Income to Total AssetsX86       \n",
      " Total assets to GNP priceX87       \n",
      " No-credit IntervalX88       \n",
      " Gross Profit to SalesX89       \n",
      " Net Income to Stockholder's EquityX90       \n",
      " Liability to EquityX91       \n",
      " Degree of Financial Leverage (DFL)X92       \n",
      " Interest Coverage Ratio (Interest expense to EBIT)X93       \n",
      " Net Income FlagX94       \n",
      " Equity to LiabilityX95       \n"
     ]
    }
   ],
   "source": [
    "# Variables name corresponding to the Xi labels\n",
    "\n",
    "pdf=df.drop(columns=['Bankrupt?'])\n",
    "\n",
    "list1 = pdf.columns.tolist()\n",
    "list2 = [f\"X{i+1}\" for i in range(pdf.shape[1])]\n",
    "\n",
    "for item1, item2 in zip_longest(list1, list2, fillvalue=\"N/A\"):\n",
    "    print(f\"{item1:<10}{item2:<10}\")"
   ]
  },
  {
   "cell_type": "markdown",
   "metadata": {},
   "source": [
    "### Outlier Detection "
   ]
  },
  {
   "cell_type": "markdown",
   "metadata": {},
   "source": [
    "Descriptive and exploratory data analyses illustrate the presence of outliers in each variable. Below, we demonstrate that there are extreme values which cannot be ignored and similar values are observed in financial data."
   ]
  },
  {
   "cell_type": "markdown",
   "metadata": {},
   "source": [
    "#### Isolation Forest model"
   ]
  },
  {
   "cell_type": "code",
   "execution_count": 8,
   "metadata": {},
   "outputs": [
    {
     "name": "stderr",
     "output_type": "stream",
     "text": [
      "c:\\ProgramData\\Anaconda3\\envs\\dsi_participant\\lib\\site-packages\\sklearn\\base.py:439: UserWarning: X does not have valid feature names, but IsolationForest was fitted with feature names\n",
      "  warnings.warn(\n"
     ]
    },
    {
     "name": "stdout",
     "output_type": "stream",
     "text": [
      "Outliers detected by Isolation Forest:\n",
      "            X1        X2        X3        X4        X5        X6        X7   \n",
      "56    0.066933  0.057185  0.054821  0.601861  0.601861  0.998825  0.796779  \\\n",
      "379   0.453956  0.516082  0.501740  0.665151  0.665151  0.996295  0.776710   \n",
      "427   0.311315  0.279655  0.360887  0.598293  0.598293  0.998511  0.796186   \n",
      "448   0.364842  0.318415  0.393115  0.494249  0.494249  0.996804  0.789248   \n",
      "527   0.392385  0.432621  0.451470  0.555939  0.555939  0.998291  0.796273   \n",
      "...        ...       ...       ...       ...       ...       ...       ...   \n",
      "6645  0.556184  0.612843  0.600460  0.597025  0.597025  0.998998  0.797488   \n",
      "6700  0.294252  0.353195  0.324268  0.621507  0.621507  0.998777  0.796607   \n",
      "6731  0.507239  0.572830  0.559077  0.596225  0.596225  0.998978  0.797430   \n",
      "6753  0.584849  0.652584  0.637936  0.621780  0.621780  0.999208  0.797689   \n",
      "6818  0.493053  0.570105  0.549548  0.627409  0.627409  0.998080  0.801987   \n",
      "\n",
      "            X8        X9       X10  ...       X87       X88       X89   \n",
      "56    0.808717  0.302760  0.780927  ...  0.005803  0.623648  0.601857  \\\n",
      "379   0.761550  0.272989  0.759283  ...  0.003736  0.679350  0.665149   \n",
      "427   0.808234  0.302381  0.780718  ...  0.000456  0.623593  0.598295   \n",
      "448   0.801097  0.293829  0.776307  ...  0.000783  0.622187  0.494250   \n",
      "527   0.808449  0.302992  0.780788  ...  0.001388  0.625402  0.555936   \n",
      "...        ...       ...       ...  ...       ...       ...       ...   \n",
      "6645  0.809393  0.303636  0.781656  ...  0.448819  0.623870  0.597020   \n",
      "6700  0.808556  0.302560  0.780663  ...  0.000219  0.623738  0.621505   \n",
      "6731  0.809350  0.303577  0.781612  ...  1.000000  0.623650  0.596225   \n",
      "6753  0.809574  0.303548  0.781853  ...  0.000982  0.623640  0.621780   \n",
      "6818  0.813800  0.313415  0.786079  ...  0.000707  0.626680  0.627408   \n",
      "\n",
      "           X90       X91       X92       X93  X94       X95  Outlier  \n",
      "56    1.000000  0.182790  0.026763  0.565021    1  0.009178       -1  \n",
      "379   0.831484  0.307015  0.026351  0.561557    1  0.013225       -1  \n",
      "427   0.000000  0.745352  0.026749  0.564949    1  0.010437       -1  \n",
      "448   0.820388  0.285070  0.026762  0.565015    1  0.019550       -1  \n",
      "527   0.831774  0.285768  0.026705  0.564709    1  0.018963       -1  \n",
      "...        ...       ...       ...       ...  ...       ...      ...  \n",
      "6645  0.843384  0.279715  0.026809  0.565242    1  0.029463       -1  \n",
      "6700  0.818086  0.291992  0.026747  0.564940    1  0.015824       -1  \n",
      "6731  0.842400  0.284332  0.026802  0.565211    1  0.020263       -1  \n",
      "6753  0.847107  0.285862  0.026791  0.565158    1  0.018890       -1  \n",
      "6818  0.841019  0.275114  0.026793  0.565167    1  0.233902       -1  \n",
      "\n",
      "[341 rows x 96 columns]\n"
     ]
    }
   ],
   "source": [
    "# Fit the Isolation Forest model for Outlier Detection\n",
    "\n",
    "data=predictors\n",
    "\n",
    "iso_forest = IsolationForest(contamination=0.05, random_state=42)\n",
    "outlier_labels = iso_forest.fit_predict(data.select_dtypes(include=['float']))\n",
    "\n",
    "# Add the outlier labels to the dataset\n",
    "data['Outlier'] = outlier_labels\n",
    "outliers = data[data['Outlier'] == -1]\n",
    "print(\"Outliers detected by Isolation Forest:\")\n",
    "print(outliers)"
   ]
  },
  {
   "cell_type": "markdown",
   "metadata": {},
   "source": [
    "Isolation Forest isolates data points by recursively splitting data using random decision trees. Normal points require more splits to be isolated, as they cluster together. Outliers are isolated quickly because they are far from other points. The algorithm is Useful in detecting anomalies in datasets with continuous features. Handles high-dimensional data and is robust to noise."
   ]
  },
  {
   "cell_type": "code",
   "execution_count": null,
   "metadata": {},
   "outputs": [
    {
     "name": "stdout",
     "output_type": "stream",
     "text": [
      "            X1        X2        X3        X4        X5        X6        X7   \n",
      "0     0.370594  0.424389  0.405750  0.601457  0.601457  0.998969  0.796887  \\\n",
      "1     0.464291  0.538214  0.516730  0.610235  0.610235  0.998946  0.797380   \n",
      "2     0.426071  0.499019  0.472295  0.601450  0.601364  0.998857  0.796403   \n",
      "3     0.399844  0.451265  0.457733  0.583541  0.583541  0.998700  0.796967   \n",
      "4     0.465022  0.538432  0.522298  0.598783  0.598783  0.998973  0.797366   \n",
      "...        ...       ...       ...       ...       ...       ...       ...   \n",
      "6814  0.493687  0.539468  0.543230  0.604455  0.604462  0.998992  0.797409   \n",
      "6815  0.475162  0.538269  0.524172  0.598308  0.598308  0.998992  0.797414   \n",
      "6816  0.472725  0.533744  0.520638  0.610444  0.610213  0.998984  0.797401   \n",
      "6817  0.506264  0.559911  0.554045  0.607850  0.607850  0.999074  0.797500   \n",
      "6818  0.493053  0.570105  0.549548  0.627409  0.627409  0.998080  0.801987   \n",
      "\n",
      "            X8        X9       X10  ...       X88       X89       X90   \n",
      "0     0.808809  0.302646  0.780985  ...  0.622879  0.601453  0.827890  \\\n",
      "1     0.809301  0.303556  0.781506  ...  0.623652  0.610237  0.839969   \n",
      "2     0.808388  0.302035  0.780284  ...  0.623841  0.601449  0.836774   \n",
      "3     0.808966  0.303350  0.781241  ...  0.622929  0.583538  0.834697   \n",
      "4     0.809304  0.303475  0.781550  ...  0.623521  0.598782  0.839973   \n",
      "...        ...       ...       ...  ...       ...       ...       ...   \n",
      "6814  0.809331  0.303510  0.781588  ...  0.623620  0.604455  0.840359   \n",
      "6815  0.809327  0.303520  0.781586  ...  0.623931  0.598306  0.840306   \n",
      "6816  0.809317  0.303512  0.781546  ...  0.624156  0.610441  0.840138   \n",
      "6817  0.809399  0.303498  0.781663  ...  0.623957  0.607846  0.841084   \n",
      "6818  0.813800  0.313415  0.786079  ...  0.626680  0.627408  0.841019   \n",
      "\n",
      "           X91       X92       X93  X94       X95  Outlier  Target  \n",
      "0     0.290202  0.026601  0.564050    1  0.016469        1       1  \n",
      "1     0.283846  0.264577  0.570175    1  0.020794        1       1  \n",
      "2     0.290189  0.026555  0.563706    1  0.016474        1       1  \n",
      "3     0.281721  0.026697  0.564663    1  0.023982        1       1  \n",
      "4     0.278514  0.024752  0.575617    1  0.035490        1       1  \n",
      "...        ...       ...       ...  ...       ...      ...     ...  \n",
      "6814  0.279606  0.027064  0.566193    1  0.029890        1       0  \n",
      "6815  0.278132  0.027009  0.566018    1  0.038284        1       0  \n",
      "6816  0.275789  0.026791  0.565158    1  0.097649        1       0  \n",
      "6817  0.277547  0.026822  0.565302    1  0.044009        1       0  \n",
      "6818  0.275114  0.026793  0.565167    1  0.233902       -1       0  \n",
      "\n",
      "[6819 rows x 97 columns]\n"
     ]
    },
    {
     "data": {
      "image/png": "[encoded data removed]",
      "text/plain": [
       "<Figure size 800x600 with 2 Axes>"
      ]
     },
     "metadata": {},
     "output_type": "display_data"
    }
   ],
   "source": [
    "# Combine predictors with Outlier label and target\n",
    "\n",
    "combined_data = data.copy()\n",
    "combined_data['Target'] = target\n",
    "\n",
    "print(combined_data)\n",
    "\n",
    "# Create a contingency table\n",
    "\n",
    "contingency_table = pd.crosstab(combined_data['Target'], combined_data['Outlier'])\n",
    "\n",
    "# Plot heatmap\n",
    "plt.figure(figsize=(8, 6))\n",
    "sns.heatmap(contingency_table, annot=True, fmt=\"d\", cmap=\"YlGnBu\")\n",
    "plt.title('Heatmap of Categorical Variable Frequencies')\n",
    "plt.xlabel('Outlier')\n",
    "plt.ylabel('Target')\n",
    "plt.show()\n"
   ]
  },
  {
   "cell_type": "markdown",
   "metadata": {},
   "source": [
    "As shown in the plot, nearly 30% of the data in the bankrupt group are labeled as outliers, indicating that these extreme values are associated with bankruptcy."
   ]
  },
  {
   "cell_type": "code",
   "execution_count": 10,
   "metadata": {},
   "outputs": [
    {
     "name": "stdout",
     "output_type": "stream",
     "text": [
      "Frequency of Outliers per Variable:\n",
      "     Outlier Frequency\n",
      "X1                 391\n",
      "X2                 561\n",
      "X3                 432\n",
      "X4                 320\n",
      "X5                 318\n",
      "..                 ...\n",
      "X90                571\n",
      "X91                404\n",
      "X92               1503\n",
      "X93               1421\n",
      "X95                549\n",
      "\n",
      "[93 rows x 1 columns]\n"
     ]
    },
    {
     "data": {
      "image/png": "[encoded data removed]",
      "text/plain": [
       "<Figure size 1000x600 with 1 Axes>"
      ]
     },
     "metadata": {},
     "output_type": "display_data"
    }
   ],
   "source": [
    "# Quantile method to illustrate the frequency of outliers of the predictors\n",
    "# Function to calculate the frequency of outliers using the IQR method\n",
    "\n",
    "def detect_outliers_iqr(df, column):\n",
    "    Q1 = df[column].quantile(0.25)\n",
    "    Q3 = df[column].quantile(0.75)\n",
    "    IQR = Q3 - Q1\n",
    "    lower_bound = Q1 - 1.5 * IQR\n",
    "    upper_bound = Q3 + 1.5 * IQR\n",
    "    return df[(df[column] < lower_bound) | (df[column] > upper_bound)].shape[0]\n",
    "\n",
    "# Apply the function to all numerical columns\n",
    "outlier_frequencies = {}\n",
    "for column in data.select_dtypes(include=['float']).columns:\n",
    "    outlier_frequencies[column] = detect_outliers_iqr(data, column)\n",
    "\n",
    "# Convert to a DataFrame for better readability\n",
    "outlier_frequencies_df = pd.DataFrame.from_dict(outlier_frequencies, orient='index', columns=['Outlier Frequency'])\n",
    "\n",
    "# Display the results\n",
    "print(\"Frequency of Outliers per Variable:\")\n",
    "print(outlier_frequencies_df)\n",
    "\n",
    "# Visualize the outlier frequencies\n",
    "outlier_frequencies_df.sort_values(by='Outlier Frequency', ascending=False).plot(kind='bar', figsize=(10, 6), legend=False)\n",
    "plt.title('Frequency of Outliers per Variable')\n",
    "plt.xlabel('Variable')\n",
    "plt.ylabel('Number of Outliers')\n",
    "plt.xticks(rotation=45)\n",
    "plt.grid(axis='y', linestyle='--', alpha=0.7)\n",
    "plt.show()\n"
   ]
  },
  {
   "cell_type": "markdown",
   "metadata": {},
   "source": [
    "### Identifing and Removing Variables with Constant Values"
   ]
  },
  {
   "cell_type": "code",
   "execution_count": 12,
   "metadata": {},
   "outputs": [
    {
     "name": "stdout",
     "output_type": "stream",
     "text": [
      "Columns with non-zero standard deviation: ['X1', 'X2', 'X3', 'X4', 'X5', 'X6', 'X7', 'X8', 'X9', 'X10', 'X11', 'X12', 'X13', 'X14', 'X15', 'X16', 'X17', 'X18', 'X19', 'X20', 'X21', 'X22', 'X23', 'X24', 'X25', 'X26', 'X27', 'X28', 'X29', 'X30', 'X31', 'X32', 'X33', 'X34', 'X35', 'X36', 'X37', 'X38', 'X39', 'X40', 'X41', 'X42', 'X43', 'X44', 'X45', 'X46', 'X47', 'X48', 'X49', 'X50', 'X51', 'X52', 'X53', 'X54', 'X55', 'X56', 'X57', 'X58', 'X59', 'X60', 'X61', 'X62', 'X63', 'X64', 'X65', 'X66', 'X67', 'X68', 'X69', 'X70', 'X71', 'X72', 'X73', 'X74', 'X75', 'X76', 'X77', 'X78', 'X79', 'X80', 'X81', 'X82', 'X83', 'X84', 'X85', 'X86', 'X87', 'X88', 'X89', 'X90', 'X91', 'X92', 'X93', 'X95', 'Outlier']\n",
      "(6819, 95)\n"
     ]
    }
   ],
   "source": [
    "# Calculate the standard deviation of each column\n",
    "std_deviation = predictors.std()\n",
    "\n",
    "# Identify columns with std = 0\n",
    "zero_std_columns = std_deviation[std_deviation == 0].index\n",
    "\n",
    "# Drop these columns from the DataFrame\n",
    "predictors = predictors.drop(columns=zero_std_columns)\n",
    "\n",
    "# Print the remaining columns\n",
    "print(f\"Columns with non-zero standard deviation: {predictors.columns.tolist()}\")\n",
    "print(predictors.shape)"
   ]
  },
  {
   "cell_type": "markdown",
   "metadata": {},
   "source": [
    "### Detect Collinearity Among Predictors\n",
    "#### Correlation Matrix  "
   ]
  },
  {
   "cell_type": "code",
   "execution_count": 13,
   "metadata": {},
   "outputs": [
    {
     "name": "stdout",
     "output_type": "stream",
     "text": [
      "               X1        X2        X3        X4        X5        X6        X7   \n",
      "X1       1.000000  0.940124  0.986849  0.334719  0.332755  0.035725  0.053419  \\\n",
      "X2       0.940124  1.000000  0.955741  0.326969  0.324956  0.032053  0.053518   \n",
      "X3       0.986849  0.955741  1.000000  0.333749  0.331755  0.035212  0.053726   \n",
      "X4       0.334719  0.326969  0.333749  1.000000  0.999518  0.005745  0.032493   \n",
      "X5       0.332755  0.324956  0.331755  0.999518  1.000000  0.005610  0.032232   \n",
      "...           ...       ...       ...       ...       ...       ...       ...   \n",
      "X91     -0.143629 -0.141039 -0.142838 -0.085434 -0.085407  0.001541 -0.004043   \n",
      "X92     -0.016575 -0.011515 -0.014663 -0.011806 -0.011268  0.000935  0.000855   \n",
      "X93      0.010573  0.013372  0.011473 -0.001167 -0.001158  0.000393  0.000984   \n",
      "X95      0.052416  0.057887  0.056430  0.120029  0.120196 -0.017071 -0.014559   \n",
      "Outlier  0.129093  0.168038  0.151356  0.016069  0.015612  0.087968  0.088615   \n",
      "\n",
      "               X8        X9       X10  ...       X86       X87       X88   \n",
      "X1       0.049222  0.020501  0.051328  ...  0.887670 -0.071725  0.008135  \\\n",
      "X2       0.049474  0.029649  0.049909  ...  0.961552 -0.098900  0.011463   \n",
      "X3       0.049952  0.022366  0.052261  ...  0.912040 -0.089088  0.007523   \n",
      "X4       0.027175  0.051438  0.029430  ...  0.300143  0.022672  0.004205   \n",
      "X5       0.026851  0.051242  0.029166  ...  0.298155  0.022750  0.004038   \n",
      "...           ...       ...       ...  ...       ...       ...       ...   \n",
      "X91     -0.004390 -0.011899 -0.002996  ... -0.159697  0.021982 -0.003724   \n",
      "X92      0.000927 -0.000556  0.000774  ... -0.010463 -0.001881 -0.008812   \n",
      "X93      0.000957  0.001024  0.000798  ...  0.012746  0.000239  0.001027   \n",
      "X95     -0.010900  0.012293 -0.011299  ...  0.073916  0.014871  0.050609   \n",
      "Outlier  0.088797 -0.035973  0.081578  ...  0.235612 -0.123138  0.007530   \n",
      "\n",
      "              X89       X90       X91       X92       X93       X95   Outlier  \n",
      "X1       0.334721  0.274287 -0.143629 -0.016575  0.010573  0.052416  0.129093  \n",
      "X2       0.326971  0.291744 -0.141039 -0.011515  0.013372  0.057887  0.168038  \n",
      "X3       0.333750  0.280617 -0.142838 -0.014663  0.011473  0.056430  0.151356  \n",
      "X4       1.000000  0.075304 -0.085434 -0.011806 -0.001167  0.120029  0.016069  \n",
      "X5       0.999518  0.074891 -0.085407 -0.011268 -0.001158  0.120196  0.015612  \n",
      "...           ...       ...       ...       ...       ...       ...       ...  \n",
      "X91     -0.085434 -0.791836  1.000000  0.002119  0.001487 -0.159654 -0.188409  \n",
      "X92     -0.011806 -0.000093  0.002119  1.000000  0.016513 -0.016739  0.009733  \n",
      "X93     -0.001169  0.005147  0.001487  0.016513  1.000000 -0.008339  0.004975  \n",
      "X95      0.120027  0.029622 -0.159654 -0.016739 -0.008339  1.000000 -0.175936  \n",
      "Outlier  0.016070  0.165861 -0.188409  0.009733  0.004975 -0.175936  1.000000  \n",
      "\n",
      "[95 rows x 95 columns]\n"
     ]
    }
   ],
   "source": [
    "# Calculate the correlation matrix\n",
    "correlation_matrix = predictors.corr()\n",
    "print(correlation_matrix)"
   ]
  },
  {
   "cell_type": "markdown",
   "metadata": {},
   "source": [
    "#### Identifying Highly Correlated Predictor Pairs Using a Threshold"
   ]
  },
  {
   "cell_type": "code",
   "execution_count": 18,
   "metadata": {},
   "outputs": [
    {
     "name": "stdout",
     "output_type": "stream",
     "text": [
      "Highly Correlated Pairs:\n",
      "   Feature_1 Feature_2  Correlation\n",
      "0         X1        X2     0.940124\n",
      "1         X1        X3     0.986849\n",
      "2         X1       X86     0.887670\n",
      "3         X2        X3     0.955741\n",
      "4         X2       X86     0.961552\n",
      "5         X3       X86     0.912040\n",
      "6         X4        X5     0.999518\n",
      "7         X4       X89     1.000000\n",
      "8         X5       X89     0.999518\n",
      "9         X6        X7     0.916448\n",
      "10        X6        X8     0.862191\n",
      "11        X6       X10     0.915544\n",
      "12        X7        X8     0.986379\n",
      "13        X7       X10     0.993617\n",
      "14        X8       X10     0.984452\n",
      "15       X13       X61     0.880562\n",
      "16       X16       X17     0.999342\n",
      "17       X16       X18     0.999179\n",
      "18       X17       X18     0.999837\n",
      "19       X19       X22     0.876769\n",
      "20       X19       X23     0.955591\n",
      "21       X19       X42     0.873641\n",
      "22       X19       X43     0.959461\n",
      "23       X22       X23     0.861813\n",
      "24       X22       X42     0.998696\n",
      "25       X22       X43     0.886157\n",
      "26       X23       X42     0.858310\n",
      "27       X23       X43     0.962723\n",
      "28       X26       X27     0.996186\n",
      "29       X37       X38    -1.000000\n",
      "30       X40       X66     0.892772\n",
      "31       X40       X78     0.892772\n",
      "32       X40       X91     0.955857\n",
      "33       X42       X43     0.887370\n",
      "34       X64       X77     1.000000\n",
      "35       X66       X78     1.000000\n",
      "36       X66       X91     0.963908\n",
      "37       X73       X75     0.948194\n",
      "38       X78       X91     0.963908\n"
     ]
    }
   ],
   "source": [
    "# Define a correlation threshold\n",
    "threshold = 0.85\n",
    "\n",
    "# Find pairs of variables with correlation above the threshold\n",
    "high_corr_pairs = []\n",
    "\n",
    "# Iterate through the correlation matrix\n",
    "for i in range(correlation_matrix.shape[0]):\n",
    "    for j in range(i + 1, correlation_matrix.shape[1]):  # Avoid self-correlation and duplicate pairs\n",
    "        if abs(correlation_matrix.iloc[i, j]) > threshold:\n",
    "            high_corr_pairs.append((correlation_matrix.index[i], correlation_matrix.columns[j], correlation_matrix.iloc[i, j]))\n",
    "\n",
    "# Convert to a DataFrame for better readability\n",
    "high_corr_df = pd.DataFrame(high_corr_pairs, columns=[\"Feature_1\", \"Feature_2\", \"Correlation\"])\n",
    "\n",
    "# Display the high correlation pairs\n",
    "print(\"Highly Correlated Pairs:\")\n",
    "print(high_corr_df)\n"
   ]
  },
  {
   "cell_type": "markdown",
   "metadata": {},
   "source": [
    "After identifying collinear pairs, decide whether to:\n",
    "\n",
    "1. Remove one of the variables in the pair.\n",
    "2. Combine them using dimensionality reduction (e.g., Principal Component Analysis)."
   ]
  },
  {
   "cell_type": "markdown",
   "metadata": {},
   "source": [
    "#### Removing completely correlated variables\n",
    "##### Removing the variables with the correlation coeficient equals to one."
   ]
  },
  {
   "cell_type": "code",
   "execution_count": 15,
   "metadata": {},
   "outputs": [],
   "source": [
    "#Removing completely correlated variables\n",
    "\n",
    "Removed_predictors = predictors.drop(columns=['X77','X78','X37','X4'])"
   ]
  },
  {
   "cell_type": "markdown",
   "metadata": {},
   "source": [
    "##### Principal Component Analysis"
   ]
  },
  {
   "cell_type": "code",
   "execution_count": 20,
   "metadata": {},
   "outputs": [
    {
     "name": "stdout",
     "output_type": "stream",
     "text": [
      "Explained Variance Ratio for Each Component:\n",
      "[0.13410695 0.0645518  0.04752262 0.04522877 0.04335571 0.03261283\n",
      " 0.03105628 0.0295987  0.02429113 0.02211259 0.02101825 0.0201088\n",
      " 0.01680435 0.01648626 0.01623645 0.0157156  0.01506311 0.01420837\n",
      " 0.01360025 0.01321776 0.01293621 0.0124447  0.01180121 0.01157443\n",
      " 0.01154401 0.01131631 0.01122314 0.01118571 0.01115853 0.01092053\n",
      " 0.01079328 0.01064477 0.01063222 0.0104681  0.01026448 0.01012225\n",
      " 0.01006881 0.00983063 0.00953186 0.0093829  0.00919818 0.00912158\n",
      " 0.0088625  0.00881565 0.00823282 0.00787688 0.00756894 0.00721293\n",
      " 0.0062865  0.00622948 0.00597909 0.00594218 0.00534455]\n",
      "\n",
      "Cumulative Explained Variance:\n",
      "[0.13410695 0.19865875 0.24618137 0.29141014 0.33476585 0.36737867\n",
      " 0.39843495 0.42803365 0.45232479 0.47443737 0.49545562 0.51556442\n",
      " 0.53236877 0.54885503 0.56509148 0.58080709 0.59587019 0.61007857\n",
      " 0.62367881 0.63689657 0.64983279 0.66227748 0.67407869 0.68565313\n",
      " 0.69719714 0.70851345 0.71973658 0.73092229 0.74208082 0.75300135\n",
      " 0.76379462 0.77443939 0.78507161 0.79553971 0.80580418 0.81592644\n",
      " 0.82599525 0.83582588 0.84535774 0.85474065 0.86393883 0.8730604\n",
      " 0.88192291 0.89073856 0.89897138 0.90684826 0.91441721 0.92163014\n",
      " 0.92791664 0.93414612 0.9401252  0.94606739 0.95141194]\n",
      "DataFrame after PCA:\n"
     ]
    },
    {
     "data": {
      "text/html": [
       "<div>\n",
       "<style scoped>\n",
       "    .dataframe tbody tr th:only-of-type {\n",
       "        vertical-align: middle;\n",
       "    }\n",
       "\n",
       "    .dataframe tbody tr th {\n",
       "        vertical-align: top;\n",
       "    }\n",
       "\n",
       "    .dataframe thead th {\n",
       "        text-align: right;\n",
       "    }\n",
       "</style>\n",
       "<table border=\"1\" class=\"dataframe\">\n",
       "  <thead>\n",
       "    <tr style=\"text-align: right;\">\n",
       "      <th></th>\n",
       "      <th>PC1</th>\n",
       "      <th>PC2</th>\n",
       "      <th>PC3</th>\n",
       "      <th>PC4</th>\n",
       "      <th>PC5</th>\n",
       "      <th>PC6</th>\n",
       "      <th>PC7</th>\n",
       "      <th>PC8</th>\n",
       "      <th>PC9</th>\n",
       "      <th>PC10</th>\n",
       "      <th>...</th>\n",
       "      <th>PC44</th>\n",
       "      <th>PC45</th>\n",
       "      <th>PC46</th>\n",
       "      <th>PC47</th>\n",
       "      <th>PC48</th>\n",
       "      <th>PC49</th>\n",
       "      <th>PC50</th>\n",
       "      <th>PC51</th>\n",
       "      <th>PC52</th>\n",
       "      <th>PC53</th>\n",
       "    </tr>\n",
       "  </thead>\n",
       "  <tbody>\n",
       "    <tr>\n",
       "      <th>0</th>\n",
       "      <td>-7.103553</td>\n",
       "      <td>0.701326</td>\n",
       "      <td>0.690654</td>\n",
       "      <td>0.621796</td>\n",
       "      <td>-0.768014</td>\n",
       "      <td>1.089171</td>\n",
       "      <td>-0.354233</td>\n",
       "      <td>-0.351208</td>\n",
       "      <td>-1.739177</td>\n",
       "      <td>1.700831</td>\n",
       "      <td>...</td>\n",
       "      <td>-0.193031</td>\n",
       "      <td>-1.399707</td>\n",
       "      <td>0.344207</td>\n",
       "      <td>0.145730</td>\n",
       "      <td>0.192354</td>\n",
       "      <td>-0.310633</td>\n",
       "      <td>-0.245096</td>\n",
       "      <td>-0.314524</td>\n",
       "      <td>0.677883</td>\n",
       "      <td>-0.040918</td>\n",
       "    </tr>\n",
       "    <tr>\n",
       "      <th>1</th>\n",
       "      <td>-2.573896</td>\n",
       "      <td>-0.677168</td>\n",
       "      <td>2.232905</td>\n",
       "      <td>0.672566</td>\n",
       "      <td>-1.714187</td>\n",
       "      <td>0.064308</td>\n",
       "      <td>-0.396601</td>\n",
       "      <td>-0.347495</td>\n",
       "      <td>-0.753522</td>\n",
       "      <td>0.132789</td>\n",
       "      <td>...</td>\n",
       "      <td>-0.060277</td>\n",
       "      <td>-0.261255</td>\n",
       "      <td>0.488831</td>\n",
       "      <td>0.018781</td>\n",
       "      <td>0.190311</td>\n",
       "      <td>0.360591</td>\n",
       "      <td>-0.139801</td>\n",
       "      <td>-0.189303</td>\n",
       "      <td>0.814913</td>\n",
       "      <td>0.425375</td>\n",
       "    </tr>\n",
       "    <tr>\n",
       "      <th>2</th>\n",
       "      <td>-4.039121</td>\n",
       "      <td>-0.295945</td>\n",
       "      <td>0.214322</td>\n",
       "      <td>0.052009</td>\n",
       "      <td>-0.335778</td>\n",
       "      <td>-0.694654</td>\n",
       "      <td>0.073777</td>\n",
       "      <td>0.271234</td>\n",
       "      <td>-0.175184</td>\n",
       "      <td>1.013394</td>\n",
       "      <td>...</td>\n",
       "      <td>0.735391</td>\n",
       "      <td>1.028007</td>\n",
       "      <td>0.288400</td>\n",
       "      <td>-0.827024</td>\n",
       "      <td>0.660844</td>\n",
       "      <td>0.770025</td>\n",
       "      <td>-0.068128</td>\n",
       "      <td>0.412949</td>\n",
       "      <td>0.514335</td>\n",
       "      <td>0.731801</td>\n",
       "    </tr>\n",
       "    <tr>\n",
       "      <th>3</th>\n",
       "      <td>-5.676429</td>\n",
       "      <td>-0.890374</td>\n",
       "      <td>1.877745</td>\n",
       "      <td>0.715350</td>\n",
       "      <td>-1.644265</td>\n",
       "      <td>1.148120</td>\n",
       "      <td>-0.777757</td>\n",
       "      <td>-0.553197</td>\n",
       "      <td>0.211164</td>\n",
       "      <td>0.579703</td>\n",
       "      <td>...</td>\n",
       "      <td>-0.472362</td>\n",
       "      <td>1.546004</td>\n",
       "      <td>0.814564</td>\n",
       "      <td>-0.818686</td>\n",
       "      <td>-0.810140</td>\n",
       "      <td>-0.011105</td>\n",
       "      <td>0.678353</td>\n",
       "      <td>0.871670</td>\n",
       "      <td>-0.394857</td>\n",
       "      <td>0.798656</td>\n",
       "    </tr>\n",
       "    <tr>\n",
       "      <th>4</th>\n",
       "      <td>-2.373837</td>\n",
       "      <td>0.038625</td>\n",
       "      <td>-0.194126</td>\n",
       "      <td>0.985623</td>\n",
       "      <td>-0.972471</td>\n",
       "      <td>0.651210</td>\n",
       "      <td>-0.664947</td>\n",
       "      <td>-0.459284</td>\n",
       "      <td>0.588565</td>\n",
       "      <td>-0.369618</td>\n",
       "      <td>...</td>\n",
       "      <td>-0.179852</td>\n",
       "      <td>-0.538154</td>\n",
       "      <td>-1.143264</td>\n",
       "      <td>0.094734</td>\n",
       "      <td>0.528516</td>\n",
       "      <td>-0.282007</td>\n",
       "      <td>-0.415693</td>\n",
       "      <td>0.013646</td>\n",
       "      <td>-0.658998</td>\n",
       "      <td>-0.351253</td>\n",
       "    </tr>\n",
       "  </tbody>\n",
       "</table>\n",
       "<p>5 rows × 53 columns</p>\n",
       "</div>"
      ],
      "text/plain": [
       "        PC1       PC2       PC3       PC4       PC5       PC6       PC7   \n",
       "0 -7.103553  0.701326  0.690654  0.621796 -0.768014  1.089171 -0.354233  \\\n",
       "1 -2.573896 -0.677168  2.232905  0.672566 -1.714187  0.064308 -0.396601   \n",
       "2 -4.039121 -0.295945  0.214322  0.052009 -0.335778 -0.694654  0.073777   \n",
       "3 -5.676429 -0.890374  1.877745  0.715350 -1.644265  1.148120 -0.777757   \n",
       "4 -2.373837  0.038625 -0.194126  0.985623 -0.972471  0.651210 -0.664947   \n",
       "\n",
       "        PC8       PC9      PC10  ...      PC44      PC45      PC46      PC47   \n",
       "0 -0.351208 -1.739177  1.700831  ... -0.193031 -1.399707  0.344207  0.145730  \\\n",
       "1 -0.347495 -0.753522  0.132789  ... -0.060277 -0.261255  0.488831  0.018781   \n",
       "2  0.271234 -0.175184  1.013394  ...  0.735391  1.028007  0.288400 -0.827024   \n",
       "3 -0.553197  0.211164  0.579703  ... -0.472362  1.546004  0.814564 -0.818686   \n",
       "4 -0.459284  0.588565 -0.369618  ... -0.179852 -0.538154 -1.143264  0.094734   \n",
       "\n",
       "       PC48      PC49      PC50      PC51      PC52      PC53  \n",
       "0  0.192354 -0.310633 -0.245096 -0.314524  0.677883 -0.040918  \n",
       "1  0.190311  0.360591 -0.139801 -0.189303  0.814913  0.425375  \n",
       "2  0.660844  0.770025 -0.068128  0.412949  0.514335  0.731801  \n",
       "3 -0.810140 -0.011105  0.678353  0.871670 -0.394857  0.798656  \n",
       "4  0.528516 -0.282007 -0.415693  0.013646 -0.658998 -0.351253  \n",
       "\n",
       "[5 rows x 53 columns]"
      ]
     },
     "execution_count": 20,
     "metadata": {},
     "output_type": "execute_result"
    }
   ],
   "source": [
    "#Principal Component Analysis\n",
    "\n",
    "data= Removed_predictors.drop(columns=['Outlier'])\n",
    "\n",
    "# Standardize the data\n",
    "scaler = StandardScaler()\n",
    "scaled_data = scaler.fit_transform(data)\n",
    "\n",
    "# Apply PCA\n",
    "pca = PCA(n_components=0.95)  # Keep 95% of the variance\n",
    "pca_data = pca.fit_transform(scaled_data)\n",
    "\n",
    "# Create a DataFrame for PCA results\n",
    "pca_df = pd.DataFrame(pca_data, columns=[f\"PC{i+1}\" for i in range(pca_data.shape[1])])\n",
    "\n",
    "# Explain Variance Ratio\n",
    "explained_variance = pca.explained_variance_ratio_\n",
    "cumulative_variance = explained_variance.cumsum()\n",
    "\n",
    "print(\"Explained Variance Ratio for Each Component:\")\n",
    "print(explained_variance)\n",
    "print(\"\\nCumulative Explained Variance:\")\n",
    "print(cumulative_variance)\n",
    "\n",
    "# Add PCA components back to the original dataset\n",
    "data_pca = pd.concat([data.reset_index(drop=True), pca_df], axis=1)\n",
    "\n",
    "# Save or display the PCA results\n",
    "print(\"DataFrame after PCA:\")\n",
    "pca_df.head()\n"
   ]
  },
  {
   "cell_type": "markdown",
   "metadata": {},
   "source": [
    "### Addressing Class Imbalance Through Data Balancing Techniques"
   ]
  },
  {
   "cell_type": "markdown",
   "metadata": {},
   "source": [
    "The target variable in the dataset is imbalanced, meaning one class has significantly fewer examples compared to the other(s). This imbalance can lead to biased model predictions favoring the majority class.\n",
    "\n",
    "Why It Matters: Machine learning models tend to perform poorly on the minority class in such scenarios, resulting in low recall, precision, or F1-scores for the minority class."
   ]
  },
  {
   "cell_type": "markdown",
   "metadata": {},
   "source": [
    "#### Synthetic Data Generation\n",
    "Applied SMOTE and ADASYN to generate synthetic data points for the minority class. These synthetic examples are based on interpolation between existing data points, reducing overfitting risks associated with simple duplication.\n",
    "\n",
    "Note that do not apply SMOTE on the test set. Balancing is only for training data to prevent data leakage."
   ]
  },
  {
   "cell_type": "code",
   "execution_count": null,
   "metadata": {},
   "outputs": [
    {
     "name": "stdout",
     "output_type": "stream",
     "text": [
      "Requirement already satisfied: imbalanced-learn in c:\\programdata\\anaconda3\\envs\\dsi_participant\\lib\\site-packages (0.12.4)\n",
      "Requirement already satisfied: numpy>=1.17.3 in c:\\programdata\\anaconda3\\envs\\dsi_participant\\lib\\site-packages (from imbalanced-learn) (1.26.0)\n",
      "Requirement already satisfied: scipy>=1.5.0 in c:\\programdata\\anaconda3\\envs\\dsi_participant\\lib\\site-packages (from imbalanced-learn) (1.10.1)\n",
      "Requirement already satisfied: scikit-learn>=1.0.2 in c:\\programdata\\anaconda3\\envs\\dsi_participant\\lib\\site-packages (from imbalanced-learn) (1.2.2)\n",
      "Requirement already satisfied: joblib>=1.1.1 in c:\\programdata\\anaconda3\\envs\\dsi_participant\\lib\\site-packages (from imbalanced-learn) (1.4.2)\n",
      "Requirement already satisfied: threadpoolctl>=2.0.0 in c:\\programdata\\anaconda3\\envs\\dsi_participant\\lib\\site-packages (from imbalanced-learn) (3.5.0)\n"
     ]
    }
   ],
   "source": [
    "#!pip install imbalanced-learn"
   ]
  },
  {
   "cell_type": "markdown",
   "metadata": {},
   "source": [
    "#### SMOTE\n",
    "Synthetic Minority Oversampling Technique"
   ]
  },
  {
   "cell_type": "code",
   "execution_count": 22,
   "metadata": {},
   "outputs": [
    {
     "name": "stdout",
     "output_type": "stream",
     "text": [
      "Original Class Distribution in Training Data:\n",
      "Bankrupt?\n",
      "0    5279\n",
      "1     176\n",
      "Name: count, dtype: int64\n",
      "\n",
      "Balanced Class Distribution in Training Data:\n",
      "Bankrupt?\n",
      "0    5279\n",
      "1    5279\n",
      "Name: count, dtype: int64\n",
      "\n",
      "Shape of Balanced Data:\n",
      "Features: (10558, 91), Target: (10558,)\n"
     ]
    }
   ],
   "source": [
    "X = Removed_predictors\n",
    "y = target\n",
    "\n",
    "# Step 1: Train-Test Split\n",
    "X_train, X_test, y_train, y_test = train_test_split(X, y, test_size=0.2, random_state=42, stratify=y)\n",
    "\n",
    "# Step 2: Apply SMOTE\n",
    "smote = SMOTE(random_state=42)\n",
    "X_train_balanced, y_train_balanced = smote.fit_resample(X_train, y_train)\n",
    "\n",
    "# Display the results\n",
    "print(\"Original Class Distribution in Training Data:\")\n",
    "print(pd.Series(y_train).value_counts())\n",
    "\n",
    "print(\"\\nBalanced Class Distribution in Training Data:\")\n",
    "print(pd.Series(y_train_balanced).value_counts())\n",
    "\n",
    "print(\"\\nShape of Balanced Data:\")\n",
    "print(f\"Features: {X_train_balanced.shape}, Target: {y_train_balanced.shape}\")"
   ]
  },
  {
   "cell_type": "markdown",
   "metadata": {},
   "source": [
    "#### ADASYN\n",
    "Adaptive Synthetic Sampling: good for high dimensional data (many features)"
   ]
  },
  {
   "cell_type": "code",
   "execution_count": 25,
   "metadata": {},
   "outputs": [
    {
     "name": "stdout",
     "output_type": "stream",
     "text": [
      "Original Class Distribution in Training Data:\n",
      "Bankrupt?\n",
      "0    5279\n",
      "1     176\n",
      "Name: count, dtype: int64\n",
      "\n",
      "Balanced Class Distribution in Training Data:\n",
      "Bankrupt?\n",
      "1    5305\n",
      "0    5279\n",
      "Name: count, dtype: int64\n",
      "\n",
      "Shape of Balanced Data:\n",
      "Features: (10584, 91), Target: (10584,)\n"
     ]
    }
   ],
   "source": [
    "adasyn = ADASYN(random_state=42)\n",
    "X_train_balanced, y_train_balanced = adasyn.fit_resample(X_train, y_train)\n",
    "\n",
    "# Display the results\n",
    "print(\"Original Class Distribution in Training Data:\")\n",
    "print(pd.Series(y_train).value_counts())\n",
    "\n",
    "print(\"\\nBalanced Class Distribution in Training Data:\")\n",
    "print(pd.Series(y_train_balanced).value_counts())\n",
    "\n",
    "print(\"\\nShape of Balanced Data:\")\n",
    "print(f\"Features: {X_train_balanced.shape}, Target: {y_train_balanced.shape}\")"
   ]
  },
  {
   "cell_type": "markdown",
   "metadata": {},
   "source": [
    "### Identifying Unimportant Features (Significant Variables) Using T-Test\n",
    "The t-test is used to determine whether the mean of a feature differs significantly between the two target classes (class 0 and class 1). This helps identify features that are statistically important for distinguishing between the classes."
   ]
  },
  {
   "cell_type": "code",
   "execution_count": 30,
   "metadata": {},
   "outputs": [
    {
     "data": {
      "text/plain": [
       "(89,)"
      ]
     },
     "execution_count": 30,
     "metadata": {},
     "output_type": "execute_result"
    }
   ],
   "source": [
    "# Combine predictors and target\n",
    "\n",
    "predictors = Removed_predictors\n",
    "combined_df = predictors.copy()\n",
    "combined_df['Target'] = target\n",
    "\n",
    "data=combined_df\n",
    "data.select_dtypes(include=['float']).columns.shape\n",
    "    "
   ]
  },
  {
   "cell_type": "code",
   "execution_count": 32,
   "metadata": {},
   "outputs": [
    {
     "name": "stdout",
     "output_type": "stream",
     "text": [
      "    Feature  T-Statistic        P-Value  Significant\n",
      "0        X1    81.831702   0.000000e+00         True\n",
      "1        X2    78.329163   0.000000e+00         True\n",
      "2        X3    80.618068   0.000000e+00         True\n",
      "3        X5    39.430899   0.000000e+00         True\n",
      "4        X6     0.137026   8.910148e-01        False\n",
      "..      ...          ...            ...          ...\n",
      "86      X91   -21.098960   8.706245e-96         True\n",
      "87      X92    -2.655203   7.936728e-03         True\n",
      "88      X93     0.802506   4.222818e-01        False\n",
      "89      X95    31.991855  9.238810e-216         True\n",
      "90  Outlier    41.934986   0.000000e+00         True\n",
      "\n",
      "[91 rows x 4 columns]\n"
     ]
    }
   ],
   "source": [
    "# t-test for difference between classes\n",
    "\n",
    "X_balanced, y_balanced = smote.fit_resample(Removed_predictors, target)\n",
    "\n",
    "# Combine predictors and target\n",
    "data = X_balanced.copy()\n",
    "data['Target'] = y_balanced\n",
    "\n",
    "# T-Test Function\n",
    "def perform_t_tests(df, target, alpha=0.05):\n",
    "    numerical_features = df.select_dtypes(include=['float', 'int']).columns\n",
    "    t_test_results = []\n",
    "\n",
    "    for feature in numerical_features:\n",
    "        if feature == target:  # Skip the target variable itself\n",
    "            continue\n",
    "        \n",
    "        # Separate data into two groups based on target variable\n",
    "        group1 = df[df[target] == 0][feature]\n",
    "        group2 = df[df[target] == 1][feature]\n",
    "        \n",
    "        # Perform t-test\n",
    "        t_stat, p_value = ttest_ind(group1, group2, equal_var=False)  # Welch's t-test\n",
    "        \n",
    "        # Store results\n",
    "        t_test_results.append({\n",
    "            'Feature': feature,\n",
    "            'T-Statistic': t_stat,\n",
    "            'P-Value': p_value,\n",
    "            'Significant': p_value < alpha  # True if p-value is below alpha\n",
    "        })\n",
    "\n",
    "    return pd.DataFrame(t_test_results)\n",
    "\n",
    "# Perform t-tests\n",
    "t_test_results = perform_t_tests(data, target='Target')\n",
    "print(t_test_results)"
   ]
  },
  {
   "cell_type": "code",
   "execution_count": 63,
   "metadata": {},
   "outputs": [
    {
     "name": "stdout",
     "output_type": "stream",
     "text": [
      "Non-Significant Variables (False Significants):\n",
      "['X6', 'X24', 'X33', 'X39', 'X53', 'X58', 'X62', 'X63', 'X73', 'X75', 'X85', 'X93']\n"
     ]
    }
   ],
   "source": [
    "# Identify non-significant variables (False significants)\n",
    "non_significant_vars = t_test_results[t_test_results['Significant'] == False]['Feature'].tolist()\n",
    "\n",
    "# Display the results\n",
    "print(\"Non-Significant Variables (False Significants):\")\n",
    "print(non_significant_vars)\n"
   ]
  },
  {
   "cell_type": "markdown",
   "metadata": {},
   "source": [
    "### Conclusion"
   ]
  },
  {
   "cell_type": "markdown",
   "metadata": {},
   "source": [
    "Based on a rigorous feature selection process, we identified 78 predictors as more important than others for our analysis. This decision was guided by the following steps:\n",
    "\n",
    "T-Test Results: We performed t-tests to assess the significance of each predictor in distinguishing between the target classes.\n",
    "Features with statistically significant differences (p-value < 0.05) were retained.\n",
    "\n",
    "Removal of Highly Correlated Variables: Using a correlation threshold of 0.85, we identified and removed predictors with high collinearity to minimize redundancy and potential multicollinearity issues.\n",
    "\n",
    "Elimination of Constant Variables: Predictors with constant values were excluded as they provide no variance or discriminatory power.\n",
    "\n",
    "This is the final list of variables that were selected and entered into the predictive model:"
   ]
  },
  {
   "cell_type": "code",
   "execution_count": 34,
   "metadata": {},
   "outputs": [
    {
     "name": "stdout",
     "output_type": "stream",
     "text": [
      "X4 corresponds to:  Operating Gross Margin\n",
      "X6 corresponds to:  Operating Profit Rate\n",
      "X24 corresponds to:  Realized Sales Gross Profit Growth Rate\n",
      "X33 corresponds to:  Current Ratio\n",
      "X37 corresponds to:  Debt ratio %\n",
      "X39 corresponds to:  Long-term fund suitability ratio (A)\n",
      "X53 corresponds to:  Allocation rate per person\n",
      "X58 corresponds to:  Quick Assets/Current Liability\n",
      "X62 corresponds to:  Inventory/Working Capital\n",
      "X63 corresponds to:  Inventory/Current Liability\n",
      "X73 corresponds to:  Working capitcal Turnover Rate\n",
      "X75 corresponds to:  Cash Flow to Sales\n",
      "X77 corresponds to:  Current Liability to Liability\n",
      "X78 corresponds to:  Current Liability to Equity\n",
      "X85 corresponds to:  Liability-Assets Flag\n",
      "X93 corresponds to:  Interest Coverage Ratio (Interest expense to EBIT)\n",
      "X94 corresponds to:  Net Income Flag\n"
     ]
    }
   ],
   "source": [
    "list1 = pdf.columns.tolist()\n",
    "list2 = [f\"X{i+1}\" for i in range(pdf.shape[1])]\n",
    "\n",
    "# Create a mapping from Xi labels to original variable names\n",
    "xi_to_names = dict(zip(list2, list1))\n",
    "\n",
    "# List of variables to search\n",
    "search_label = [\"X4\", \"X6\", \"X24\", \"X33\", \"X37\", \"X39\", \"X53\", \"X58\", \"X62\", \"X63\", \"X73\", \"X75\", \"X77\", \"X78\",\"X85\",\"X93\",\"X94\"]\n",
    "\n",
    "# Find and print the variable names for each Xi\n",
    "for label in search_label:\n",
    "    if label in xi_to_names:\n",
    "        print(f\"{label} corresponds to: {xi_to_names[label]}\")\n",
    "    else:\n",
    "        print(f\"{label} not found in the mapping.\")\n"
   ]
  },
  {
   "cell_type": "markdown",
   "metadata": {},
   "source": [
    "Note that we also evaluated the models using all variables (including both important and unimportant ones) as well as principal components. However, the models' performance did not change significantly. To streamline the report, we have omitted detailed results for these experiments from this chapter."
   ]
  },
  {
   "cell_type": "markdown",
   "metadata": {},
   "source": []
  }
 ],
 "metadata": {
  "kernelspec": {
   "display_name": "dsi_participant",
   "language": "python",
   "name": "python3"
  },
  "language_info": {
   "codemirror_mode": {
    "name": "ipython",
    "version": 3
   },
   "file_extension": ".py",
   "mimetype": "text/x-python",
   "name": "python",
   "nbconvert_exporter": "python",
   "pygments_lexer": "ipython3",
   "version": "3.9.19"
  }
 },
 "nbformat": 4,
 "nbformat_minor": 2
}
